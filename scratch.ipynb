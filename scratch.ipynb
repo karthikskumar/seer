{
 "cells": [
  {
   "cell_type": "code",
   "execution_count": 1,
   "metadata": {},
   "outputs": [],
   "source": [
    "%load_ext autoreload\n",
    "%autoreload 2"
   ]
  },
  {
   "cell_type": "code",
   "execution_count": 2,
   "metadata": {},
   "outputs": [],
   "source": [
    "#%pip install opencv-python\n",
    "import cv2 as cv\n",
    "#%pip install scikit-image\n",
    "from skimage.metrics import structural_similarity"
   ]
  },
  {
   "cell_type": "code",
   "execution_count": 46,
   "metadata": {},
   "outputs": [],
   "source": [
    "cap = cv.VideoCapture(0)\n",
    "if not cap.isOpened():\n",
    "    print(\"Cannot open camera\")\n",
    "    exit()\n",
    "\n",
    "\n",
    "ret, a_prior = cap.read()\n",
    "\n",
    "# if frame is read correctly ret is True\n",
    "if not ret:\n",
    "    print(\"Can't receive frame (stream end?). Exiting ...\")\n",
    "    exit()\n",
    "\n",
    "a_prior = cv.flip(a_prior, 1)\n",
    "\n",
    "while True:\n",
    "    # Capture frame-by-frame\n",
    "    _, frame = cap.read()\n",
    "    \n",
    "    # Our operations on the frame come here\n",
    "    # gray = cv.cvtColor(frame, cv.COLOR_BGR2GRAY)\n",
    "    # inverted = cv.bitwise_not(frame)\n",
    "    flipped = cv.flip(frame, 1)\n",
    "    subtracted = cv.subtract(flipped, a_prior)\n",
    "    inv_then_sub_curr = cv.subtract(cv.bitwise_not(flipped), a_prior)\n",
    "    inv_then_sub_aprior = cv.subtract(flipped, cv.bitwise_not(a_prior))\n",
    "    \n",
    "    \n",
    "    # Display the resulting frame\n",
    "    cv.imshow('curr', flipped)\n",
    "    cv.imshow('a_prior', a_prior)\n",
    "    cv.imshow('subtracted', subtracted)\n",
    "    cv.imshow('inv_then_sub_curr', inv_then_sub_curr)\n",
    "    cv.imshow('inv_then_sub_aprior', inv_then_sub_aprior)\n",
    "    # cv.imshow('inv_sub', inv_sub)\n",
    "    # cv.imshow('gray_frame', gray)\n",
    "    # cv.imshow('inv_frame', inverted)\n",
    "    # cv.imshow('flip_frame', flipped)\n",
    "    \n",
    "    \n",
    "    if cv.waitKey(1) == ord('q'):\n",
    "        break\n",
    "\n",
    "# When everything done, release the capture\n",
    "cap.release()\n",
    "cv.destroyAllWindows()"
   ]
  },
  {
   "cell_type": "code",
   "execution_count": null,
   "metadata": {},
   "outputs": [],
   "source": []
  }
 ],
 "metadata": {
  "kernelspec": {
   "display_name": "sandbox",
   "language": "python",
   "name": "python3"
  },
  "language_info": {
   "codemirror_mode": {
    "name": "ipython",
    "version": 3
   },
   "file_extension": ".py",
   "mimetype": "text/x-python",
   "name": "python",
   "nbconvert_exporter": "python",
   "pygments_lexer": "ipython3",
   "version": "3.10.2"
  },
  "orig_nbformat": 4
 },
 "nbformat": 4,
 "nbformat_minor": 2
}
